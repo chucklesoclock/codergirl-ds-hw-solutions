{
 "cells": [
  {
   "cell_type": "markdown",
   "metadata": {},
   "source": [
    "### Heroes Of Pymoli Data Analysis\n",
    "\n",
    "-----"
   ]
  },
  {
   "cell_type": "markdown",
   "metadata": {},
   "source": [
    "### Note\n",
    "* Instructions have been included for each segment. You do not have to follow them exactly, but they are included to help you think through the steps."
   ]
  },
  {
   "cell_type": "code",
   "execution_count": 1,
   "metadata": {},
   "outputs": [],
   "source": [
    "# Dependencies and Setup\n",
    "import pandas as pd\n",
    "import numpy as np\n",
    "\n",
    "# File to Load (Remember to Change These)\n",
    "file_to_load = \"Resources/purchase_data.csv\"\n",
    "\n",
    "# Read Purchasing File and store into Pandas data frame\n",
    "purchase_data = pd.read_csv(file_to_load)"
   ]
  },
  {
   "cell_type": "code",
   "execution_count": 2,
   "metadata": {},
   "outputs": [
    {
     "data": {
      "text/html": [
       "<div>\n",
       "<style scoped>\n",
       "    .dataframe tbody tr th:only-of-type {\n",
       "        vertical-align: middle;\n",
       "    }\n",
       "\n",
       "    .dataframe tbody tr th {\n",
       "        vertical-align: top;\n",
       "    }\n",
       "\n",
       "    .dataframe thead th {\n",
       "        text-align: right;\n",
       "    }\n",
       "</style>\n",
       "<table border=\"1\" class=\"dataframe\">\n",
       "  <thead>\n",
       "    <tr style=\"text-align: right;\">\n",
       "      <th></th>\n",
       "      <th>Purchase ID</th>\n",
       "      <th>SN</th>\n",
       "      <th>Age</th>\n",
       "      <th>Gender</th>\n",
       "      <th>Item ID</th>\n",
       "      <th>Item Name</th>\n",
       "      <th>Price</th>\n",
       "    </tr>\n",
       "  </thead>\n",
       "  <tbody>\n",
       "    <tr>\n",
       "      <th>0</th>\n",
       "      <td>0</td>\n",
       "      <td>Lisim78</td>\n",
       "      <td>20</td>\n",
       "      <td>Male</td>\n",
       "      <td>108</td>\n",
       "      <td>Extraction, Quickblade Of Trembling Hands</td>\n",
       "      <td>3.53</td>\n",
       "    </tr>\n",
       "    <tr>\n",
       "      <th>1</th>\n",
       "      <td>1</td>\n",
       "      <td>Lisovynya38</td>\n",
       "      <td>40</td>\n",
       "      <td>Male</td>\n",
       "      <td>143</td>\n",
       "      <td>Frenzied Scimitar</td>\n",
       "      <td>1.56</td>\n",
       "    </tr>\n",
       "    <tr>\n",
       "      <th>2</th>\n",
       "      <td>2</td>\n",
       "      <td>Ithergue48</td>\n",
       "      <td>24</td>\n",
       "      <td>Male</td>\n",
       "      <td>92</td>\n",
       "      <td>Final Critic</td>\n",
       "      <td>4.88</td>\n",
       "    </tr>\n",
       "    <tr>\n",
       "      <th>3</th>\n",
       "      <td>3</td>\n",
       "      <td>Chamassasya86</td>\n",
       "      <td>24</td>\n",
       "      <td>Male</td>\n",
       "      <td>100</td>\n",
       "      <td>Blindscythe</td>\n",
       "      <td>3.27</td>\n",
       "    </tr>\n",
       "    <tr>\n",
       "      <th>4</th>\n",
       "      <td>4</td>\n",
       "      <td>Iskosia90</td>\n",
       "      <td>23</td>\n",
       "      <td>Male</td>\n",
       "      <td>131</td>\n",
       "      <td>Fury</td>\n",
       "      <td>1.44</td>\n",
       "    </tr>\n",
       "  </tbody>\n",
       "</table>\n",
       "</div>"
      ],
      "text/plain": [
       "   Purchase ID             SN  Age Gender  Item ID  \\\n",
       "0            0        Lisim78   20   Male      108   \n",
       "1            1    Lisovynya38   40   Male      143   \n",
       "2            2     Ithergue48   24   Male       92   \n",
       "3            3  Chamassasya86   24   Male      100   \n",
       "4            4      Iskosia90   23   Male      131   \n",
       "\n",
       "                                   Item Name  Price  \n",
       "0  Extraction, Quickblade Of Trembling Hands   3.53  \n",
       "1                          Frenzied Scimitar   1.56  \n",
       "2                               Final Critic   4.88  \n",
       "3                                Blindscythe   3.27  \n",
       "4                                       Fury   1.44  "
      ]
     },
     "execution_count": 2,
     "metadata": {},
     "output_type": "execute_result"
    }
   ],
   "source": [
    "purchase_data.head()"
   ]
  },
  {
   "cell_type": "markdown",
   "metadata": {},
   "source": [
    "## Player Count"
   ]
  },
  {
   "cell_type": "markdown",
   "metadata": {},
   "source": [
    "* Display the total number of players\n"
   ]
  },
  {
   "cell_type": "code",
   "execution_count": 3,
   "metadata": {},
   "outputs": [
    {
     "data": {
      "text/html": [
       "<div>\n",
       "<style scoped>\n",
       "    .dataframe tbody tr th:only-of-type {\n",
       "        vertical-align: middle;\n",
       "    }\n",
       "\n",
       "    .dataframe tbody tr th {\n",
       "        vertical-align: top;\n",
       "    }\n",
       "\n",
       "    .dataframe thead th {\n",
       "        text-align: right;\n",
       "    }\n",
       "</style>\n",
       "<table border=\"1\" class=\"dataframe\">\n",
       "  <thead>\n",
       "    <tr style=\"text-align: right;\">\n",
       "      <th></th>\n",
       "      <th>Total Players</th>\n",
       "    </tr>\n",
       "  </thead>\n",
       "  <tbody>\n",
       "    <tr>\n",
       "      <th>0</th>\n",
       "      <td>576</td>\n",
       "    </tr>\n",
       "  </tbody>\n",
       "</table>\n",
       "</div>"
      ],
      "text/plain": [
       "   Total Players\n",
       "0            576"
      ]
     },
     "execution_count": 3,
     "metadata": {},
     "output_type": "execute_result"
    }
   ],
   "source": [
    "pd.DataFrame({'Total Players': [purchase_data['SN'].nunique()]})"
   ]
  },
  {
   "cell_type": "markdown",
   "metadata": {},
   "source": [
    "## Purchasing Analysis (Total)"
   ]
  },
  {
   "cell_type": "markdown",
   "metadata": {},
   "source": [
    "* Run basic calculations to obtain number of unique items, average price, etc.\n",
    "\n",
    "\n",
    "* Create a summary data frame to hold the results\n",
    "\n",
    "\n",
    "* Optional: give the displayed data cleaner formatting\n",
    "\n",
    "\n",
    "* Display the summary data frame\n"
   ]
  },
  {
   "cell_type": "code",
   "execution_count": 4,
   "metadata": {
    "scrolled": true
   },
   "outputs": [
    {
     "data": {
      "text/html": [
       "<style  type=\"text/css\" >\n",
       "</style><table id=\"T_01244186_f7e2_11ea_a9c3_5cf3709a039b\" ><thead>    <tr>        <th class=\"col_heading level0 col0\" >Number of Unique Items</th>        <th class=\"col_heading level0 col1\" >Average Price</th>        <th class=\"col_heading level0 col2\" >Number of Purchases</th>        <th class=\"col_heading level0 col3\" >Total Revenue</th>    </tr></thead><tbody>\n",
       "                <tr>\n",
       "                                <td id=\"T_01244186_f7e2_11ea_a9c3_5cf3709a039brow0_col0\" class=\"data row0 col0\" >183</td>\n",
       "                        <td id=\"T_01244186_f7e2_11ea_a9c3_5cf3709a039brow0_col1\" class=\"data row0 col1\" >$3.05</td>\n",
       "                        <td id=\"T_01244186_f7e2_11ea_a9c3_5cf3709a039brow0_col2\" class=\"data row0 col2\" >780</td>\n",
       "                        <td id=\"T_01244186_f7e2_11ea_a9c3_5cf3709a039brow0_col3\" class=\"data row0 col3\" >$2379.77</td>\n",
       "            </tr>\n",
       "    </tbody></table>"
      ],
      "text/plain": [
       "<pandas.io.formats.style.Styler at 0x20cb25a31f0>"
      ]
     },
     "execution_count": 4,
     "metadata": {},
     "output_type": "execute_result"
    }
   ],
   "source": [
    "df0 = pd.DataFrame()\n",
    "df0['Number of Unique Items'] = [purchase_data['Item ID'].nunique()]\n",
    "df0['Average Price'] = [purchase_data.Price.mean()]\n",
    "df0['Number of Purchases'] = [purchase_data['Purchase ID'].count()]\n",
    "df0['Total Revenue'] = [purchase_data.Price.sum()]\n",
    "df0.style.format({\n",
    "    'Average Price': '${:.2f}',\n",
    "    'Total Revenue': '${:.2f}'\n",
    "}).hide_index()"
   ]
  },
  {
   "cell_type": "markdown",
   "metadata": {},
   "source": [
    "## Gender Demographics"
   ]
  },
  {
   "cell_type": "markdown",
   "metadata": {},
   "source": [
    "* Percentage and Count of Male Players\n",
    "\n",
    "\n",
    "* Percentage and Count of Female Players\n",
    "\n",
    "\n",
    "* Percentage and Count of Other / Non-Disclosed\n",
    "\n",
    "\n"
   ]
  },
  {
   "cell_type": "code",
   "execution_count": 5,
   "metadata": {},
   "outputs": [],
   "source": [
    "gender_counts = purchase_data[['SN', 'Gender']].drop_duplicates()['Gender'].value_counts()"
   ]
  },
  {
   "cell_type": "code",
   "execution_count": 6,
   "metadata": {},
   "outputs": [],
   "source": [
    "gender_percents = gender_counts / gender_counts.sum()"
   ]
  },
  {
   "cell_type": "code",
   "execution_count": 7,
   "metadata": {},
   "outputs": [
    {
     "data": {
      "text/html": [
       "<style  type=\"text/css\" >\n",
       "</style><table id=\"T_012abf19_f7e2_11ea_a857_5cf3709a039b\" ><thead>    <tr>        <th class=\"blank level0\" ></th>        <th class=\"col_heading level0 col0\" >Total Count</th>        <th class=\"col_heading level0 col1\" >Percentage of Players</th>    </tr></thead><tbody>\n",
       "                <tr>\n",
       "                        <th id=\"T_012abf19_f7e2_11ea_a857_5cf3709a039blevel0_row0\" class=\"row_heading level0 row0\" >Male</th>\n",
       "                        <td id=\"T_012abf19_f7e2_11ea_a857_5cf3709a039brow0_col0\" class=\"data row0 col0\" >484</td>\n",
       "                        <td id=\"T_012abf19_f7e2_11ea_a857_5cf3709a039brow0_col1\" class=\"data row0 col1\" >84.03%</td>\n",
       "            </tr>\n",
       "            <tr>\n",
       "                        <th id=\"T_012abf19_f7e2_11ea_a857_5cf3709a039blevel0_row1\" class=\"row_heading level0 row1\" >Female</th>\n",
       "                        <td id=\"T_012abf19_f7e2_11ea_a857_5cf3709a039brow1_col0\" class=\"data row1 col0\" >81</td>\n",
       "                        <td id=\"T_012abf19_f7e2_11ea_a857_5cf3709a039brow1_col1\" class=\"data row1 col1\" >14.06%</td>\n",
       "            </tr>\n",
       "            <tr>\n",
       "                        <th id=\"T_012abf19_f7e2_11ea_a857_5cf3709a039blevel0_row2\" class=\"row_heading level0 row2\" >Other / Non-Disclosed</th>\n",
       "                        <td id=\"T_012abf19_f7e2_11ea_a857_5cf3709a039brow2_col0\" class=\"data row2 col0\" >11</td>\n",
       "                        <td id=\"T_012abf19_f7e2_11ea_a857_5cf3709a039brow2_col1\" class=\"data row2 col1\" >1.91%</td>\n",
       "            </tr>\n",
       "    </tbody></table>"
      ],
      "text/plain": [
       "<pandas.io.formats.style.Styler at 0x20cb364b7f0>"
      ]
     },
     "execution_count": 7,
     "metadata": {},
     "output_type": "execute_result"
    }
   ],
   "source": [
    "percent_fmt = '{:.2%}'\n",
    "pd.DataFrame({\n",
    "    'Total Count': gender_counts,\n",
    "    'Percentage of Players': gender_percents\n",
    "}).style.format({\n",
    "    'Percentage of Players': percent_fmt\n",
    "})"
   ]
  },
  {
   "cell_type": "markdown",
   "metadata": {},
   "source": [
    "\n",
    "## Purchasing Analysis (Gender)"
   ]
  },
  {
   "cell_type": "markdown",
   "metadata": {},
   "source": [
    "* Run basic calculations to obtain purchase count, avg. purchase price, avg. purchase total per person etc. by gender\n",
    "\n",
    "\n",
    "\n",
    "\n",
    "* Create a summary data frame to hold the results\n",
    "\n",
    "\n",
    "* Optional: give the displayed data cleaner formatting\n",
    "\n",
    "\n",
    "* Display the summary data frame"
   ]
  },
  {
   "cell_type": "code",
   "execution_count": 8,
   "metadata": {},
   "outputs": [
    {
     "data": {
      "text/html": [
       "<div>\n",
       "<style scoped>\n",
       "    .dataframe tbody tr th:only-of-type {\n",
       "        vertical-align: middle;\n",
       "    }\n",
       "\n",
       "    .dataframe tbody tr th {\n",
       "        vertical-align: top;\n",
       "    }\n",
       "\n",
       "    .dataframe thead th {\n",
       "        text-align: right;\n",
       "    }\n",
       "</style>\n",
       "<table border=\"1\" class=\"dataframe\">\n",
       "  <thead>\n",
       "    <tr style=\"text-align: right;\">\n",
       "      <th></th>\n",
       "      <th>Purchase ID</th>\n",
       "      <th>SN</th>\n",
       "      <th>Age</th>\n",
       "      <th>Item ID</th>\n",
       "      <th>Item Name</th>\n",
       "      <th>Price</th>\n",
       "    </tr>\n",
       "    <tr>\n",
       "      <th>Gender</th>\n",
       "      <th></th>\n",
       "      <th></th>\n",
       "      <th></th>\n",
       "      <th></th>\n",
       "      <th></th>\n",
       "      <th></th>\n",
       "    </tr>\n",
       "  </thead>\n",
       "  <tbody>\n",
       "    <tr>\n",
       "      <th>Female</th>\n",
       "      <td>113</td>\n",
       "      <td>113</td>\n",
       "      <td>113</td>\n",
       "      <td>113</td>\n",
       "      <td>113</td>\n",
       "      <td>113</td>\n",
       "    </tr>\n",
       "    <tr>\n",
       "      <th>Male</th>\n",
       "      <td>652</td>\n",
       "      <td>652</td>\n",
       "      <td>652</td>\n",
       "      <td>652</td>\n",
       "      <td>652</td>\n",
       "      <td>652</td>\n",
       "    </tr>\n",
       "    <tr>\n",
       "      <th>Other / Non-Disclosed</th>\n",
       "      <td>15</td>\n",
       "      <td>15</td>\n",
       "      <td>15</td>\n",
       "      <td>15</td>\n",
       "      <td>15</td>\n",
       "      <td>15</td>\n",
       "    </tr>\n",
       "  </tbody>\n",
       "</table>\n",
       "</div>"
      ],
      "text/plain": [
       "                       Purchase ID   SN  Age  Item ID  Item Name  Price\n",
       "Gender                                                                 \n",
       "Female                         113  113  113      113        113    113\n",
       "Male                           652  652  652      652        652    652\n",
       "Other / Non-Disclosed           15   15   15       15         15     15"
      ]
     },
     "execution_count": 8,
     "metadata": {},
     "output_type": "execute_result"
    }
   ],
   "source": [
    "gender_groupby = purchase_data.groupby('Gender')\n",
    "gender_groupby.count()"
   ]
  },
  {
   "cell_type": "code",
   "execution_count": 9,
   "metadata": {},
   "outputs": [
    {
     "data": {
      "text/html": [
       "<style  type=\"text/css\" >\n",
       "</style><table id=\"T_013163c9_f7e2_11ea_a842_5cf3709a039b\" ><thead>    <tr>        <th class=\"blank level0\" ></th>        <th class=\"col_heading level0 col0\" >Total Purchases</th>        <th class=\"col_heading level0 col1\" >Average Purchase Price</th>        <th class=\"col_heading level0 col2\" >Total Purchase Value</th>        <th class=\"col_heading level0 col3\" >Average Purchase Per Person</th>    </tr>    <tr>        <th class=\"index_name level0\" >Gender</th>        <th class=\"blank\" ></th>        <th class=\"blank\" ></th>        <th class=\"blank\" ></th>        <th class=\"blank\" ></th>    </tr></thead><tbody>\n",
       "                <tr>\n",
       "                        <th id=\"T_013163c9_f7e2_11ea_a842_5cf3709a039blevel0_row0\" class=\"row_heading level0 row0\" >Female</th>\n",
       "                        <td id=\"T_013163c9_f7e2_11ea_a842_5cf3709a039brow0_col0\" class=\"data row0 col0\" >113</td>\n",
       "                        <td id=\"T_013163c9_f7e2_11ea_a842_5cf3709a039brow0_col1\" class=\"data row0 col1\" >$3.20</td>\n",
       "                        <td id=\"T_013163c9_f7e2_11ea_a842_5cf3709a039brow0_col2\" class=\"data row0 col2\" >$361.94</td>\n",
       "                        <td id=\"T_013163c9_f7e2_11ea_a842_5cf3709a039brow0_col3\" class=\"data row0 col3\" >$4.47</td>\n",
       "            </tr>\n",
       "            <tr>\n",
       "                        <th id=\"T_013163c9_f7e2_11ea_a842_5cf3709a039blevel0_row1\" class=\"row_heading level0 row1\" >Male</th>\n",
       "                        <td id=\"T_013163c9_f7e2_11ea_a842_5cf3709a039brow1_col0\" class=\"data row1 col0\" >652</td>\n",
       "                        <td id=\"T_013163c9_f7e2_11ea_a842_5cf3709a039brow1_col1\" class=\"data row1 col1\" >$3.02</td>\n",
       "                        <td id=\"T_013163c9_f7e2_11ea_a842_5cf3709a039brow1_col2\" class=\"data row1 col2\" >$1967.64</td>\n",
       "                        <td id=\"T_013163c9_f7e2_11ea_a842_5cf3709a039brow1_col3\" class=\"data row1 col3\" >$4.07</td>\n",
       "            </tr>\n",
       "            <tr>\n",
       "                        <th id=\"T_013163c9_f7e2_11ea_a842_5cf3709a039blevel0_row2\" class=\"row_heading level0 row2\" >Other / Non-Disclosed</th>\n",
       "                        <td id=\"T_013163c9_f7e2_11ea_a842_5cf3709a039brow2_col0\" class=\"data row2 col0\" >15</td>\n",
       "                        <td id=\"T_013163c9_f7e2_11ea_a842_5cf3709a039brow2_col1\" class=\"data row2 col1\" >$3.35</td>\n",
       "                        <td id=\"T_013163c9_f7e2_11ea_a842_5cf3709a039brow2_col2\" class=\"data row2 col2\" >$50.19</td>\n",
       "                        <td id=\"T_013163c9_f7e2_11ea_a842_5cf3709a039brow2_col3\" class=\"data row2 col3\" >$4.56</td>\n",
       "            </tr>\n",
       "    </tbody></table>"
      ],
      "text/plain": [
       "<pandas.io.formats.style.Styler at 0x20cb0508310>"
      ]
     },
     "execution_count": 9,
     "metadata": {},
     "output_type": "execute_result"
    }
   ],
   "source": [
    "means = gender_groupby[['Age', 'Price']].mean()\n",
    "# print(means)\n",
    "counts = gender_groupby[['Purchase ID']].count()\n",
    "# print(counts)\n",
    "sums = gender_groupby[['Price']].sum()\n",
    "# print(sums)\n",
    "nuniques = gender_groupby[['SN', 'Item ID', 'Item Name']].nunique()\n",
    "# print(nuniques)\n",
    "result = pd.concat(\n",
    "    (\n",
    "        counts['Purchase ID'], \n",
    "        means['Price'], \n",
    "        sums['Price'], \n",
    "        sums['Price'] / nuniques['SN'], \n",
    "        \n",
    "    ), \n",
    "    axis=1\n",
    ")\n",
    "result.columns = [\n",
    "    'Total Purchases',\n",
    "    'Average Purchase Price', \n",
    "    'Total Purchase Value', \n",
    "    'Average Purchase Per Person'\n",
    "]\n",
    "money_fmt = '${:.2f}'\n",
    "result.style.format({key: money_fmt for key in ['Average Purchase Price', \n",
    "                                                'Total Purchase Value', \n",
    "                                                'Average Purchase Per Person']})"
   ]
  },
  {
   "cell_type": "code",
   "execution_count": 10,
   "metadata": {},
   "outputs": [
    {
     "name": "stdout",
     "output_type": "stream",
     "text": [
      "Male                    = ['Oathbreaker, Last Hope of the Breaking Storm']\n",
      "Other / Non-Disclosed   = ['Warped Iron Scimitar', 'Betrayal, Whisper of Grieving Widows']\n",
      "Female                  = ['Nirvana']\n"
     ]
    }
   ],
   "source": [
    "top_items_dict = {\n",
    "    gender: purchase_data.loc[\n",
    "        purchase_data.Gender == gender, ['Item ID', 'Item Name']\n",
    "    ].value_counts().reset_index()\n",
    "    for gender in purchase_data.Gender\n",
    "}\n",
    "for gender in top_items_dict:\n",
    "    top_series = top_items_dict[gender]\n",
    "    print(f\"{gender:23} = {top_series[top_series[0] == top_series[0].max()]['Item Name'].to_list()}\")"
   ]
  },
  {
   "cell_type": "code",
   "execution_count": 11,
   "metadata": {},
   "outputs": [
    {
     "name": "stdout",
     "output_type": "stream",
     "text": [
      "Gender\n",
      "Female                   4\n",
      "Male                     9\n",
      "Other / Non-Disclosed    2\n",
      "Name: Purchase ID, dtype: int64\n"
     ]
    },
    {
     "data": {
      "text/plain": [
       "Gender  Item ID  Item Name                                   \n",
       "Male    178      Oathbreaker, Last Hope of the Breaking Storm    9\n",
       "        59       Lightning, Etcher of the King                   8\n",
       "        103      Singed Scalpel                                  7\n",
       "        164      Exiled Doomblade                                7\n",
       "        72       Winter's Bite                                   7\n",
       "                                                                ..\n",
       "Female  179      Wolf, Promise of the Moonwalker                 1\n",
       "        181      Reaper's Toll                                   1\n",
       "        183      Dragon's Greatsword                             1\n",
       "Male    6        Rusty Skull                                     1\n",
       "Female  1        Crucifer                                        1\n",
       "Name: Item ID, Length: 285, dtype: int64"
      ]
     },
     "execution_count": 11,
     "metadata": {},
     "output_type": "execute_result"
    }
   ],
   "source": [
    "gendered_items = purchase_data.groupby(['Gender', 'Item ID', 'Item Name'])\n",
    "gendered_max_item_purchase = gendered_items['Purchase ID'].count().max(level='Gender')\n",
    "print(gendered_max_item_purchase)\n",
    "gendered_items['Item ID'].count().sort_values(ascending=False)"
   ]
  },
  {
   "cell_type": "markdown",
   "metadata": {},
   "source": [
    "## Age Demographics"
   ]
  },
  {
   "cell_type": "markdown",
   "metadata": {},
   "source": [
    "* Establish bins for ages\n",
    "\n",
    "\n",
    "* Categorize the existing players using the age bins. Hint: use pd.cut()\n",
    "\n",
    "\n",
    "* Calculate the numbers and percentages by age group\n",
    "\n",
    "\n",
    "* Create a summary data frame to hold the results\n",
    "\n",
    "\n",
    "* Optional: round the percentage column to two decimal points\n",
    "\n",
    "\n",
    "* Display Age Demographics Table\n"
   ]
  },
  {
   "cell_type": "code",
   "execution_count": 12,
   "metadata": {},
   "outputs": [
    {
     "data": {
      "text/html": [
       "<div>\n",
       "<style scoped>\n",
       "    .dataframe tbody tr th:only-of-type {\n",
       "        vertical-align: middle;\n",
       "    }\n",
       "\n",
       "    .dataframe tbody tr th {\n",
       "        vertical-align: top;\n",
       "    }\n",
       "\n",
       "    .dataframe thead th {\n",
       "        text-align: right;\n",
       "    }\n",
       "</style>\n",
       "<table border=\"1\" class=\"dataframe\">\n",
       "  <thead>\n",
       "    <tr style=\"text-align: right;\">\n",
       "      <th></th>\n",
       "      <th>SN</th>\n",
       "      <th>Age</th>\n",
       "    </tr>\n",
       "  </thead>\n",
       "  <tbody>\n",
       "    <tr>\n",
       "      <th>0</th>\n",
       "      <td>Lisim78</td>\n",
       "      <td>20</td>\n",
       "    </tr>\n",
       "    <tr>\n",
       "      <th>1</th>\n",
       "      <td>Lisovynya38</td>\n",
       "      <td>40</td>\n",
       "    </tr>\n",
       "    <tr>\n",
       "      <th>2</th>\n",
       "      <td>Ithergue48</td>\n",
       "      <td>24</td>\n",
       "    </tr>\n",
       "    <tr>\n",
       "      <th>3</th>\n",
       "      <td>Chamassasya86</td>\n",
       "      <td>24</td>\n",
       "    </tr>\n",
       "    <tr>\n",
       "      <th>4</th>\n",
       "      <td>Iskosia90</td>\n",
       "      <td>23</td>\n",
       "    </tr>\n",
       "    <tr>\n",
       "      <th>...</th>\n",
       "      <td>...</td>\n",
       "      <td>...</td>\n",
       "    </tr>\n",
       "    <tr>\n",
       "      <th>773</th>\n",
       "      <td>Hala31</td>\n",
       "      <td>21</td>\n",
       "    </tr>\n",
       "    <tr>\n",
       "      <th>774</th>\n",
       "      <td>Jiskjask80</td>\n",
       "      <td>11</td>\n",
       "    </tr>\n",
       "    <tr>\n",
       "      <th>775</th>\n",
       "      <td>Aethedru70</td>\n",
       "      <td>21</td>\n",
       "    </tr>\n",
       "    <tr>\n",
       "      <th>777</th>\n",
       "      <td>Yathecal72</td>\n",
       "      <td>20</td>\n",
       "    </tr>\n",
       "    <tr>\n",
       "      <th>778</th>\n",
       "      <td>Sisur91</td>\n",
       "      <td>7</td>\n",
       "    </tr>\n",
       "  </tbody>\n",
       "</table>\n",
       "<p>576 rows × 2 columns</p>\n",
       "</div>"
      ],
      "text/plain": [
       "                SN  Age\n",
       "0          Lisim78   20\n",
       "1      Lisovynya38   40\n",
       "2       Ithergue48   24\n",
       "3    Chamassasya86   24\n",
       "4        Iskosia90   23\n",
       "..             ...  ...\n",
       "773         Hala31   21\n",
       "774     Jiskjask80   11\n",
       "775     Aethedru70   21\n",
       "777     Yathecal72   20\n",
       "778        Sisur91    7\n",
       "\n",
       "[576 rows x 2 columns]"
      ]
     },
     "execution_count": 12,
     "metadata": {},
     "output_type": "execute_result"
    }
   ],
   "source": [
    "unique_ages = purchase_data[['SN', 'Age']].drop_duplicates()\n",
    "unique_ages"
   ]
  },
  {
   "cell_type": "code",
   "execution_count": 13,
   "metadata": {},
   "outputs": [
    {
     "data": {
      "text/html": [
       "<style  type=\"text/css\" >\n",
       "</style><table id=\"T_02c2cfd2_f7e2_11ea_9f4a_5cf3709a039b\" ><thead>    <tr>        <th class=\"blank level0\" ></th>        <th class=\"col_heading level0 col0\" >Total Players</th>        <th class=\"col_heading level0 col1\" >Percentage of Players</th>    </tr></thead><tbody>\n",
       "                <tr>\n",
       "                        <th id=\"T_02c2cfd2_f7e2_11ea_9f4a_5cf3709a039blevel0_row0\" class=\"row_heading level0 row0\" ><10</th>\n",
       "                        <td id=\"T_02c2cfd2_f7e2_11ea_9f4a_5cf3709a039brow0_col0\" class=\"data row0 col0\" >17</td>\n",
       "                        <td id=\"T_02c2cfd2_f7e2_11ea_9f4a_5cf3709a039brow0_col1\" class=\"data row0 col1\" >2.95%</td>\n",
       "            </tr>\n",
       "            <tr>\n",
       "                        <th id=\"T_02c2cfd2_f7e2_11ea_9f4a_5cf3709a039blevel0_row1\" class=\"row_heading level0 row1\" >10-14</th>\n",
       "                        <td id=\"T_02c2cfd2_f7e2_11ea_9f4a_5cf3709a039brow1_col0\" class=\"data row1 col0\" >22</td>\n",
       "                        <td id=\"T_02c2cfd2_f7e2_11ea_9f4a_5cf3709a039brow1_col1\" class=\"data row1 col1\" >3.82%</td>\n",
       "            </tr>\n",
       "            <tr>\n",
       "                        <th id=\"T_02c2cfd2_f7e2_11ea_9f4a_5cf3709a039blevel0_row2\" class=\"row_heading level0 row2\" >15-19</th>\n",
       "                        <td id=\"T_02c2cfd2_f7e2_11ea_9f4a_5cf3709a039brow2_col0\" class=\"data row2 col0\" >107</td>\n",
       "                        <td id=\"T_02c2cfd2_f7e2_11ea_9f4a_5cf3709a039brow2_col1\" class=\"data row2 col1\" >18.58%</td>\n",
       "            </tr>\n",
       "            <tr>\n",
       "                        <th id=\"T_02c2cfd2_f7e2_11ea_9f4a_5cf3709a039blevel0_row3\" class=\"row_heading level0 row3\" >20-24</th>\n",
       "                        <td id=\"T_02c2cfd2_f7e2_11ea_9f4a_5cf3709a039brow3_col0\" class=\"data row3 col0\" >258</td>\n",
       "                        <td id=\"T_02c2cfd2_f7e2_11ea_9f4a_5cf3709a039brow3_col1\" class=\"data row3 col1\" >44.79%</td>\n",
       "            </tr>\n",
       "            <tr>\n",
       "                        <th id=\"T_02c2cfd2_f7e2_11ea_9f4a_5cf3709a039blevel0_row4\" class=\"row_heading level0 row4\" >25-29</th>\n",
       "                        <td id=\"T_02c2cfd2_f7e2_11ea_9f4a_5cf3709a039brow4_col0\" class=\"data row4 col0\" >77</td>\n",
       "                        <td id=\"T_02c2cfd2_f7e2_11ea_9f4a_5cf3709a039brow4_col1\" class=\"data row4 col1\" >13.37%</td>\n",
       "            </tr>\n",
       "            <tr>\n",
       "                        <th id=\"T_02c2cfd2_f7e2_11ea_9f4a_5cf3709a039blevel0_row5\" class=\"row_heading level0 row5\" >30-34</th>\n",
       "                        <td id=\"T_02c2cfd2_f7e2_11ea_9f4a_5cf3709a039brow5_col0\" class=\"data row5 col0\" >52</td>\n",
       "                        <td id=\"T_02c2cfd2_f7e2_11ea_9f4a_5cf3709a039brow5_col1\" class=\"data row5 col1\" >9.03%</td>\n",
       "            </tr>\n",
       "            <tr>\n",
       "                        <th id=\"T_02c2cfd2_f7e2_11ea_9f4a_5cf3709a039blevel0_row6\" class=\"row_heading level0 row6\" >35-39</th>\n",
       "                        <td id=\"T_02c2cfd2_f7e2_11ea_9f4a_5cf3709a039brow6_col0\" class=\"data row6 col0\" >31</td>\n",
       "                        <td id=\"T_02c2cfd2_f7e2_11ea_9f4a_5cf3709a039brow6_col1\" class=\"data row6 col1\" >5.38%</td>\n",
       "            </tr>\n",
       "            <tr>\n",
       "                        <th id=\"T_02c2cfd2_f7e2_11ea_9f4a_5cf3709a039blevel0_row7\" class=\"row_heading level0 row7\" >40+</th>\n",
       "                        <td id=\"T_02c2cfd2_f7e2_11ea_9f4a_5cf3709a039brow7_col0\" class=\"data row7 col0\" >12</td>\n",
       "                        <td id=\"T_02c2cfd2_f7e2_11ea_9f4a_5cf3709a039brow7_col1\" class=\"data row7 col1\" >2.08%</td>\n",
       "            </tr>\n",
       "    </tbody></table>"
      ],
      "text/plain": [
       "<pandas.io.formats.style.Styler at 0x20cb36c7fa0>"
      ]
     },
     "execution_count": 13,
     "metadata": {},
     "output_type": "execute_result"
    }
   ],
   "source": [
    "bins = [0] + list(range(10, 41, 5)) + [unique_ages.Age.max()+1]\n",
    "labels = ['<10'] + [f'{x}-{x+4}' for x in range(10, 40, 5)] + ['40+']\n",
    "age_binned = pd.cut(unique_ages.Age, bins=bins, right=False, labels=labels).value_counts().sort_index()\n",
    "result = pd.DataFrame({'Total Players': age_binned, 'Percentage of Players': age_binned / age_binned.sum()})\n",
    "result.style.format({\n",
    "    'Percentage of Players': percent_fmt\n",
    "})"
   ]
  },
  {
   "cell_type": "markdown",
   "metadata": {},
   "source": [
    "## Purchasing Analysis (Age)"
   ]
  },
  {
   "cell_type": "markdown",
   "metadata": {},
   "source": [
    "* Bin the purchase_data data frame by age\n",
    "\n",
    "\n",
    "* Run basic calculations to obtain purchase count, avg. purchase price, avg. purchase total per person etc. in the table below\n",
    "\n",
    "\n",
    "* Create a summary data frame to hold the results\n",
    "\n",
    "\n",
    "* Optional: give the displayed data cleaner formatting\n",
    "\n",
    "\n",
    "* Display the summary data frame"
   ]
  },
  {
   "cell_type": "code",
   "execution_count": 14,
   "metadata": {},
   "outputs": [
    {
     "data": {
      "text/html": [
       "<style  type=\"text/css\" >\n",
       "</style><table id=\"T_02c58f8e_f7e2_11ea_bf6e_5cf3709a039b\" ><thead>    <tr>        <th class=\"blank level0\" ></th>        <th class=\"col_heading level0 col0\" >Purchase Count</th>        <th class=\"col_heading level0 col1\" >Average Purchase Price</th>        <th class=\"col_heading level0 col2\" >Total Purchase Value</th>        <th class=\"col_heading level0 col3\" >Avg Total Purchase Per Person</th>    </tr>    <tr>        <th class=\"index_name level0\" >Age</th>        <th class=\"blank\" ></th>        <th class=\"blank\" ></th>        <th class=\"blank\" ></th>        <th class=\"blank\" ></th>    </tr></thead><tbody>\n",
       "                <tr>\n",
       "                        <th id=\"T_02c58f8e_f7e2_11ea_bf6e_5cf3709a039blevel0_row0\" class=\"row_heading level0 row0\" ><10</th>\n",
       "                        <td id=\"T_02c58f8e_f7e2_11ea_bf6e_5cf3709a039brow0_col0\" class=\"data row0 col0\" >23</td>\n",
       "                        <td id=\"T_02c58f8e_f7e2_11ea_bf6e_5cf3709a039brow0_col1\" class=\"data row0 col1\" >$3.35</td>\n",
       "                        <td id=\"T_02c58f8e_f7e2_11ea_bf6e_5cf3709a039brow0_col2\" class=\"data row0 col2\" >$77.13</td>\n",
       "                        <td id=\"T_02c58f8e_f7e2_11ea_bf6e_5cf3709a039brow0_col3\" class=\"data row0 col3\" >$4.54</td>\n",
       "            </tr>\n",
       "            <tr>\n",
       "                        <th id=\"T_02c58f8e_f7e2_11ea_bf6e_5cf3709a039blevel0_row1\" class=\"row_heading level0 row1\" >10-14</th>\n",
       "                        <td id=\"T_02c58f8e_f7e2_11ea_bf6e_5cf3709a039brow1_col0\" class=\"data row1 col0\" >28</td>\n",
       "                        <td id=\"T_02c58f8e_f7e2_11ea_bf6e_5cf3709a039brow1_col1\" class=\"data row1 col1\" >$2.96</td>\n",
       "                        <td id=\"T_02c58f8e_f7e2_11ea_bf6e_5cf3709a039brow1_col2\" class=\"data row1 col2\" >$82.78</td>\n",
       "                        <td id=\"T_02c58f8e_f7e2_11ea_bf6e_5cf3709a039brow1_col3\" class=\"data row1 col3\" >$3.76</td>\n",
       "            </tr>\n",
       "            <tr>\n",
       "                        <th id=\"T_02c58f8e_f7e2_11ea_bf6e_5cf3709a039blevel0_row2\" class=\"row_heading level0 row2\" >15-19</th>\n",
       "                        <td id=\"T_02c58f8e_f7e2_11ea_bf6e_5cf3709a039brow2_col0\" class=\"data row2 col0\" >136</td>\n",
       "                        <td id=\"T_02c58f8e_f7e2_11ea_bf6e_5cf3709a039brow2_col1\" class=\"data row2 col1\" >$3.04</td>\n",
       "                        <td id=\"T_02c58f8e_f7e2_11ea_bf6e_5cf3709a039brow2_col2\" class=\"data row2 col2\" >$412.89</td>\n",
       "                        <td id=\"T_02c58f8e_f7e2_11ea_bf6e_5cf3709a039brow2_col3\" class=\"data row2 col3\" >$3.86</td>\n",
       "            </tr>\n",
       "            <tr>\n",
       "                        <th id=\"T_02c58f8e_f7e2_11ea_bf6e_5cf3709a039blevel0_row3\" class=\"row_heading level0 row3\" >20-24</th>\n",
       "                        <td id=\"T_02c58f8e_f7e2_11ea_bf6e_5cf3709a039brow3_col0\" class=\"data row3 col0\" >365</td>\n",
       "                        <td id=\"T_02c58f8e_f7e2_11ea_bf6e_5cf3709a039brow3_col1\" class=\"data row3 col1\" >$3.05</td>\n",
       "                        <td id=\"T_02c58f8e_f7e2_11ea_bf6e_5cf3709a039brow3_col2\" class=\"data row3 col2\" >$1114.06</td>\n",
       "                        <td id=\"T_02c58f8e_f7e2_11ea_bf6e_5cf3709a039brow3_col3\" class=\"data row3 col3\" >$4.32</td>\n",
       "            </tr>\n",
       "            <tr>\n",
       "                        <th id=\"T_02c58f8e_f7e2_11ea_bf6e_5cf3709a039blevel0_row4\" class=\"row_heading level0 row4\" >25-29</th>\n",
       "                        <td id=\"T_02c58f8e_f7e2_11ea_bf6e_5cf3709a039brow4_col0\" class=\"data row4 col0\" >101</td>\n",
       "                        <td id=\"T_02c58f8e_f7e2_11ea_bf6e_5cf3709a039brow4_col1\" class=\"data row4 col1\" >$2.90</td>\n",
       "                        <td id=\"T_02c58f8e_f7e2_11ea_bf6e_5cf3709a039brow4_col2\" class=\"data row4 col2\" >$293.00</td>\n",
       "                        <td id=\"T_02c58f8e_f7e2_11ea_bf6e_5cf3709a039brow4_col3\" class=\"data row4 col3\" >$3.81</td>\n",
       "            </tr>\n",
       "            <tr>\n",
       "                        <th id=\"T_02c58f8e_f7e2_11ea_bf6e_5cf3709a039blevel0_row5\" class=\"row_heading level0 row5\" >30-34</th>\n",
       "                        <td id=\"T_02c58f8e_f7e2_11ea_bf6e_5cf3709a039brow5_col0\" class=\"data row5 col0\" >73</td>\n",
       "                        <td id=\"T_02c58f8e_f7e2_11ea_bf6e_5cf3709a039brow5_col1\" class=\"data row5 col1\" >$2.93</td>\n",
       "                        <td id=\"T_02c58f8e_f7e2_11ea_bf6e_5cf3709a039brow5_col2\" class=\"data row5 col2\" >$214.00</td>\n",
       "                        <td id=\"T_02c58f8e_f7e2_11ea_bf6e_5cf3709a039brow5_col3\" class=\"data row5 col3\" >$4.12</td>\n",
       "            </tr>\n",
       "            <tr>\n",
       "                        <th id=\"T_02c58f8e_f7e2_11ea_bf6e_5cf3709a039blevel0_row6\" class=\"row_heading level0 row6\" >35-39</th>\n",
       "                        <td id=\"T_02c58f8e_f7e2_11ea_bf6e_5cf3709a039brow6_col0\" class=\"data row6 col0\" >41</td>\n",
       "                        <td id=\"T_02c58f8e_f7e2_11ea_bf6e_5cf3709a039brow6_col1\" class=\"data row6 col1\" >$3.60</td>\n",
       "                        <td id=\"T_02c58f8e_f7e2_11ea_bf6e_5cf3709a039brow6_col2\" class=\"data row6 col2\" >$147.67</td>\n",
       "                        <td id=\"T_02c58f8e_f7e2_11ea_bf6e_5cf3709a039brow6_col3\" class=\"data row6 col3\" >$4.76</td>\n",
       "            </tr>\n",
       "            <tr>\n",
       "                        <th id=\"T_02c58f8e_f7e2_11ea_bf6e_5cf3709a039blevel0_row7\" class=\"row_heading level0 row7\" >40+</th>\n",
       "                        <td id=\"T_02c58f8e_f7e2_11ea_bf6e_5cf3709a039brow7_col0\" class=\"data row7 col0\" >13</td>\n",
       "                        <td id=\"T_02c58f8e_f7e2_11ea_bf6e_5cf3709a039brow7_col1\" class=\"data row7 col1\" >$2.94</td>\n",
       "                        <td id=\"T_02c58f8e_f7e2_11ea_bf6e_5cf3709a039brow7_col2\" class=\"data row7 col2\" >$38.24</td>\n",
       "                        <td id=\"T_02c58f8e_f7e2_11ea_bf6e_5cf3709a039brow7_col3\" class=\"data row7 col3\" >$3.19</td>\n",
       "            </tr>\n",
       "    </tbody></table>"
      ],
      "text/plain": [
       "<pandas.io.formats.style.Styler at 0x20cb3642400>"
      ]
     },
     "execution_count": 14,
     "metadata": {},
     "output_type": "execute_result"
    }
   ],
   "source": [
    "purchase_age_binned = pd.cut(purchase_data.Age, bins=bins, right=False, labels=labels)\n",
    "pdata_age_grouped = purchase_data.groupby(purchase_age_binned)\n",
    "pcount = pdata_age_grouped['Purchase ID'].count()\n",
    "pmean = pdata_age_grouped.Price.mean()\n",
    "psum = pdata_age_grouped.Price.sum()\n",
    "result = pd.DataFrame({\n",
    "    'Purchase Count': pcount,\n",
    "    'Average Purchase Price': pmean,\n",
    "    'Total Purchase Value': psum, \n",
    "    'Avg Total Purchase Per Person': psum / pdata_age_grouped.SN.nunique()\n",
    "})\n",
    "result.style.format({\n",
    "    col: money_fmt for col in result.columns if col != 'Purchase Count'\n",
    "})"
   ]
  },
  {
   "cell_type": "markdown",
   "metadata": {},
   "source": [
    "## Top Spenders"
   ]
  },
  {
   "cell_type": "markdown",
   "metadata": {},
   "source": [
    "* Run basic calculations to obtain the results in the table below\n",
    "\n",
    "\n",
    "* Create a summary data frame to hold the results\n",
    "\n",
    "\n",
    "* Sort the total purchase value column in descending order\n",
    "\n",
    "\n",
    "* Optional: give the displayed data cleaner formatting\n",
    "\n",
    "\n",
    "* Display a preview of the summary data frame\n",
    "\n"
   ]
  },
  {
   "cell_type": "code",
   "execution_count": 15,
   "metadata": {},
   "outputs": [
    {
     "data": {
      "text/html": [
       "<style  type=\"text/css\" >\n",
       "</style><table id=\"T_02c99b9b_f7e2_11ea_91d3_5cf3709a039b\" ><thead>    <tr>        <th class=\"blank level0\" ></th>        <th class=\"col_heading level0 col0\" >Purchase Count</th>        <th class=\"col_heading level0 col1\" >Average Purchase Price</th>        <th class=\"col_heading level0 col2\" >Total Purchase Value</th>    </tr>    <tr>        <th class=\"index_name level0\" >SN</th>        <th class=\"blank\" ></th>        <th class=\"blank\" ></th>        <th class=\"blank\" ></th>    </tr></thead><tbody>\n",
       "                <tr>\n",
       "                        <th id=\"T_02c99b9b_f7e2_11ea_91d3_5cf3709a039blevel0_row0\" class=\"row_heading level0 row0\" >Lisosia93</th>\n",
       "                        <td id=\"T_02c99b9b_f7e2_11ea_91d3_5cf3709a039brow0_col0\" class=\"data row0 col0\" >5</td>\n",
       "                        <td id=\"T_02c99b9b_f7e2_11ea_91d3_5cf3709a039brow0_col1\" class=\"data row0 col1\" >$3.79</td>\n",
       "                        <td id=\"T_02c99b9b_f7e2_11ea_91d3_5cf3709a039brow0_col2\" class=\"data row0 col2\" >$18.96</td>\n",
       "            </tr>\n",
       "            <tr>\n",
       "                        <th id=\"T_02c99b9b_f7e2_11ea_91d3_5cf3709a039blevel0_row1\" class=\"row_heading level0 row1\" >Idastidru52</th>\n",
       "                        <td id=\"T_02c99b9b_f7e2_11ea_91d3_5cf3709a039brow1_col0\" class=\"data row1 col0\" >4</td>\n",
       "                        <td id=\"T_02c99b9b_f7e2_11ea_91d3_5cf3709a039brow1_col1\" class=\"data row1 col1\" >$3.86</td>\n",
       "                        <td id=\"T_02c99b9b_f7e2_11ea_91d3_5cf3709a039brow1_col2\" class=\"data row1 col2\" >$15.45</td>\n",
       "            </tr>\n",
       "            <tr>\n",
       "                        <th id=\"T_02c99b9b_f7e2_11ea_91d3_5cf3709a039blevel0_row2\" class=\"row_heading level0 row2\" >Chamjask73</th>\n",
       "                        <td id=\"T_02c99b9b_f7e2_11ea_91d3_5cf3709a039brow2_col0\" class=\"data row2 col0\" >3</td>\n",
       "                        <td id=\"T_02c99b9b_f7e2_11ea_91d3_5cf3709a039brow2_col1\" class=\"data row2 col1\" >$4.61</td>\n",
       "                        <td id=\"T_02c99b9b_f7e2_11ea_91d3_5cf3709a039brow2_col2\" class=\"data row2 col2\" >$13.83</td>\n",
       "            </tr>\n",
       "            <tr>\n",
       "                        <th id=\"T_02c99b9b_f7e2_11ea_91d3_5cf3709a039blevel0_row3\" class=\"row_heading level0 row3\" >Iral74</th>\n",
       "                        <td id=\"T_02c99b9b_f7e2_11ea_91d3_5cf3709a039brow3_col0\" class=\"data row3 col0\" >4</td>\n",
       "                        <td id=\"T_02c99b9b_f7e2_11ea_91d3_5cf3709a039brow3_col1\" class=\"data row3 col1\" >$3.40</td>\n",
       "                        <td id=\"T_02c99b9b_f7e2_11ea_91d3_5cf3709a039brow3_col2\" class=\"data row3 col2\" >$13.62</td>\n",
       "            </tr>\n",
       "            <tr>\n",
       "                        <th id=\"T_02c99b9b_f7e2_11ea_91d3_5cf3709a039blevel0_row4\" class=\"row_heading level0 row4\" >Iskadarya95</th>\n",
       "                        <td id=\"T_02c99b9b_f7e2_11ea_91d3_5cf3709a039brow4_col0\" class=\"data row4 col0\" >3</td>\n",
       "                        <td id=\"T_02c99b9b_f7e2_11ea_91d3_5cf3709a039brow4_col1\" class=\"data row4 col1\" >$4.37</td>\n",
       "                        <td id=\"T_02c99b9b_f7e2_11ea_91d3_5cf3709a039brow4_col2\" class=\"data row4 col2\" >$13.10</td>\n",
       "            </tr>\n",
       "    </tbody></table>"
      ],
      "text/plain": [
       "<pandas.io.formats.style.Styler at 0x20cb36513d0>"
      ]
     },
     "execution_count": 15,
     "metadata": {},
     "output_type": "execute_result"
    }
   ],
   "source": [
    "sn_purchases = purchase_data.groupby('SN')\n",
    "result = pd.DataFrame({\n",
    "    'Purchase Count': sn_purchases['Purchase ID'].count(),\n",
    "    'Average Purchase Price': sn_purchases.Price.mean(),\n",
    "    'Total Purchase Value': sn_purchases.Price.sum()\n",
    "}).sort_values('Total Purchase Value', ascending=False)\n",
    "result.head().style.format({\n",
    "    col: money_fmt for col in result.columns if col != 'Purchase Count'\n",
    "})"
   ]
  },
  {
   "cell_type": "markdown",
   "metadata": {},
   "source": [
    "## Most Popular Items"
   ]
  },
  {
   "cell_type": "markdown",
   "metadata": {},
   "source": [
    "* Retrieve the Item ID, Item Name, and Item Price columns\n",
    "\n",
    "\n",
    "* Group by Item ID and Item Name. Perform calculations to obtain purchase count, item price, and total purchase value\n",
    "\n",
    "\n",
    "* Create a summary data frame to hold the results\n",
    "\n",
    "\n",
    "* Sort the purchase count column in descending order\n",
    "\n",
    "\n",
    "* Optional: give the displayed data cleaner formatting\n",
    "\n",
    "\n",
    "* Display a preview of the summary data frame\n",
    "\n"
   ]
  },
  {
   "cell_type": "code",
   "execution_count": 16,
   "metadata": {},
   "outputs": [
    {
     "data": {
      "text/html": [
       "<style  type=\"text/css\" >\n",
       "</style><table id=\"T_02cc5b52_f7e2_11ea_b475_5cf3709a039b\" ><thead>    <tr>        <th class=\"blank\" ></th>        <th class=\"blank level0\" ></th>        <th class=\"col_heading level0 col0\" >Purchase Count</th>        <th class=\"col_heading level0 col1\" >Item Price</th>        <th class=\"col_heading level0 col2\" >Total Purchase Value</th>    </tr>    <tr>        <th class=\"index_name level0\" >Item ID</th>        <th class=\"index_name level1\" >Item Name</th>        <th class=\"blank\" ></th>        <th class=\"blank\" ></th>        <th class=\"blank\" ></th>    </tr></thead><tbody>\n",
       "                <tr>\n",
       "                        <th id=\"T_02cc5b52_f7e2_11ea_b475_5cf3709a039blevel0_row0\" class=\"row_heading level0 row0\" >178</th>\n",
       "                        <th id=\"T_02cc5b52_f7e2_11ea_b475_5cf3709a039blevel1_row0\" class=\"row_heading level1 row0\" >Oathbreaker, Last Hope of the Breaking Storm</th>\n",
       "                        <td id=\"T_02cc5b52_f7e2_11ea_b475_5cf3709a039brow0_col0\" class=\"data row0 col0\" >12</td>\n",
       "                        <td id=\"T_02cc5b52_f7e2_11ea_b475_5cf3709a039brow0_col1\" class=\"data row0 col1\" >$4.23</td>\n",
       "                        <td id=\"T_02cc5b52_f7e2_11ea_b475_5cf3709a039brow0_col2\" class=\"data row0 col2\" >$50.76</td>\n",
       "            </tr>\n",
       "            <tr>\n",
       "                        <th id=\"T_02cc5b52_f7e2_11ea_b475_5cf3709a039blevel0_row1\" class=\"row_heading level0 row1\" >145</th>\n",
       "                        <th id=\"T_02cc5b52_f7e2_11ea_b475_5cf3709a039blevel1_row1\" class=\"row_heading level1 row1\" >Fiery Glass Crusader</th>\n",
       "                        <td id=\"T_02cc5b52_f7e2_11ea_b475_5cf3709a039brow1_col0\" class=\"data row1 col0\" >9</td>\n",
       "                        <td id=\"T_02cc5b52_f7e2_11ea_b475_5cf3709a039brow1_col1\" class=\"data row1 col1\" >$4.58</td>\n",
       "                        <td id=\"T_02cc5b52_f7e2_11ea_b475_5cf3709a039brow1_col2\" class=\"data row1 col2\" >$41.22</td>\n",
       "            </tr>\n",
       "            <tr>\n",
       "                        <th id=\"T_02cc5b52_f7e2_11ea_b475_5cf3709a039blevel0_row2\" class=\"row_heading level0 row2\" >108</th>\n",
       "                        <th id=\"T_02cc5b52_f7e2_11ea_b475_5cf3709a039blevel1_row2\" class=\"row_heading level1 row2\" >Extraction, Quickblade Of Trembling Hands</th>\n",
       "                        <td id=\"T_02cc5b52_f7e2_11ea_b475_5cf3709a039brow2_col0\" class=\"data row2 col0\" >9</td>\n",
       "                        <td id=\"T_02cc5b52_f7e2_11ea_b475_5cf3709a039brow2_col1\" class=\"data row2 col1\" >$3.53</td>\n",
       "                        <td id=\"T_02cc5b52_f7e2_11ea_b475_5cf3709a039brow2_col2\" class=\"data row2 col2\" >$31.77</td>\n",
       "            </tr>\n",
       "            <tr>\n",
       "                        <th id=\"T_02cc5b52_f7e2_11ea_b475_5cf3709a039blevel0_row3\" class=\"row_heading level0 row3\" >82</th>\n",
       "                        <th id=\"T_02cc5b52_f7e2_11ea_b475_5cf3709a039blevel1_row3\" class=\"row_heading level1 row3\" >Nirvana</th>\n",
       "                        <td id=\"T_02cc5b52_f7e2_11ea_b475_5cf3709a039brow3_col0\" class=\"data row3 col0\" >9</td>\n",
       "                        <td id=\"T_02cc5b52_f7e2_11ea_b475_5cf3709a039brow3_col1\" class=\"data row3 col1\" >$4.90</td>\n",
       "                        <td id=\"T_02cc5b52_f7e2_11ea_b475_5cf3709a039brow3_col2\" class=\"data row3 col2\" >$44.10</td>\n",
       "            </tr>\n",
       "            <tr>\n",
       "                        <th id=\"T_02cc5b52_f7e2_11ea_b475_5cf3709a039blevel0_row4\" class=\"row_heading level0 row4\" >19</th>\n",
       "                        <th id=\"T_02cc5b52_f7e2_11ea_b475_5cf3709a039blevel1_row4\" class=\"row_heading level1 row4\" >Pursuit, Cudgel of Necromancy</th>\n",
       "                        <td id=\"T_02cc5b52_f7e2_11ea_b475_5cf3709a039brow4_col0\" class=\"data row4 col0\" >8</td>\n",
       "                        <td id=\"T_02cc5b52_f7e2_11ea_b475_5cf3709a039brow4_col1\" class=\"data row4 col1\" >$1.02</td>\n",
       "                        <td id=\"T_02cc5b52_f7e2_11ea_b475_5cf3709a039brow4_col2\" class=\"data row4 col2\" >$8.16</td>\n",
       "            </tr>\n",
       "            <tr>\n",
       "                        <th id=\"T_02cc5b52_f7e2_11ea_b475_5cf3709a039blevel0_row5\" class=\"row_heading level0 row5\" >103</th>\n",
       "                        <th id=\"T_02cc5b52_f7e2_11ea_b475_5cf3709a039blevel1_row5\" class=\"row_heading level1 row5\" >Singed Scalpel</th>\n",
       "                        <td id=\"T_02cc5b52_f7e2_11ea_b475_5cf3709a039brow5_col0\" class=\"data row5 col0\" >8</td>\n",
       "                        <td id=\"T_02cc5b52_f7e2_11ea_b475_5cf3709a039brow5_col1\" class=\"data row5 col1\" >$4.35</td>\n",
       "                        <td id=\"T_02cc5b52_f7e2_11ea_b475_5cf3709a039brow5_col2\" class=\"data row5 col2\" >$34.80</td>\n",
       "            </tr>\n",
       "            <tr>\n",
       "                        <th id=\"T_02cc5b52_f7e2_11ea_b475_5cf3709a039blevel0_row6\" class=\"row_heading level0 row6\" >75</th>\n",
       "                        <th id=\"T_02cc5b52_f7e2_11ea_b475_5cf3709a039blevel1_row6\" class=\"row_heading level1 row6\" >Brutality Ivory Warmace</th>\n",
       "                        <td id=\"T_02cc5b52_f7e2_11ea_b475_5cf3709a039brow6_col0\" class=\"data row6 col0\" >8</td>\n",
       "                        <td id=\"T_02cc5b52_f7e2_11ea_b475_5cf3709a039brow6_col1\" class=\"data row6 col1\" >$2.42</td>\n",
       "                        <td id=\"T_02cc5b52_f7e2_11ea_b475_5cf3709a039brow6_col2\" class=\"data row6 col2\" >$19.36</td>\n",
       "            </tr>\n",
       "            <tr>\n",
       "                        <th id=\"T_02cc5b52_f7e2_11ea_b475_5cf3709a039blevel0_row7\" class=\"row_heading level0 row7\" >72</th>\n",
       "                        <th id=\"T_02cc5b52_f7e2_11ea_b475_5cf3709a039blevel1_row7\" class=\"row_heading level1 row7\" >Winter's Bite</th>\n",
       "                        <td id=\"T_02cc5b52_f7e2_11ea_b475_5cf3709a039brow7_col0\" class=\"data row7 col0\" >8</td>\n",
       "                        <td id=\"T_02cc5b52_f7e2_11ea_b475_5cf3709a039brow7_col1\" class=\"data row7 col1\" >$3.77</td>\n",
       "                        <td id=\"T_02cc5b52_f7e2_11ea_b475_5cf3709a039brow7_col2\" class=\"data row7 col2\" >$30.16</td>\n",
       "            </tr>\n",
       "            <tr>\n",
       "                        <th id=\"T_02cc5b52_f7e2_11ea_b475_5cf3709a039blevel0_row8\" class=\"row_heading level0 row8\" >60</th>\n",
       "                        <th id=\"T_02cc5b52_f7e2_11ea_b475_5cf3709a039blevel1_row8\" class=\"row_heading level1 row8\" >Wolf</th>\n",
       "                        <td id=\"T_02cc5b52_f7e2_11ea_b475_5cf3709a039brow8_col0\" class=\"data row8 col0\" >8</td>\n",
       "                        <td id=\"T_02cc5b52_f7e2_11ea_b475_5cf3709a039brow8_col1\" class=\"data row8 col1\" >$3.54</td>\n",
       "                        <td id=\"T_02cc5b52_f7e2_11ea_b475_5cf3709a039brow8_col2\" class=\"data row8 col2\" >$28.32</td>\n",
       "            </tr>\n",
       "            <tr>\n",
       "                        <th id=\"T_02cc5b52_f7e2_11ea_b475_5cf3709a039blevel0_row9\" class=\"row_heading level0 row9\" >59</th>\n",
       "                        <th id=\"T_02cc5b52_f7e2_11ea_b475_5cf3709a039blevel1_row9\" class=\"row_heading level1 row9\" >Lightning, Etcher of the King</th>\n",
       "                        <td id=\"T_02cc5b52_f7e2_11ea_b475_5cf3709a039brow9_col0\" class=\"data row9 col0\" >8</td>\n",
       "                        <td id=\"T_02cc5b52_f7e2_11ea_b475_5cf3709a039brow9_col1\" class=\"data row9 col1\" >$4.23</td>\n",
       "                        <td id=\"T_02cc5b52_f7e2_11ea_b475_5cf3709a039brow9_col2\" class=\"data row9 col2\" >$33.84</td>\n",
       "            </tr>\n",
       "    </tbody></table>"
      ],
      "text/plain": [
       "<pandas.io.formats.style.Styler at 0x20cb36512b0>"
      ]
     },
     "execution_count": 16,
     "metadata": {},
     "output_type": "execute_result"
    }
   ],
   "source": [
    "cols = ['Item ID', 'Item Name', 'Price']\n",
    "item_group = purchase_data[cols].groupby(cols[:2])\n",
    "result = pd.DataFrame({\n",
    "    'Purchase Count': item_group['Item ID'].count(), \n",
    "    'Item Price': item_group.Price.first(), \n",
    "    'Total Purchase Value': item_group.Price.sum()\n",
    "}).sort_values('Purchase Count', ascending=False)\n",
    "result.head(10).style.format({col: money_fmt for col in result.columns if col != 'Purchase Count'})"
   ]
  },
  {
   "cell_type": "markdown",
   "metadata": {},
   "source": [
    "## Most Profitable Items"
   ]
  },
  {
   "cell_type": "markdown",
   "metadata": {},
   "source": [
    "* Sort the above table by total purchase value in descending order\n",
    "\n",
    "\n",
    "* Optional: give the displayed data cleaner formatting\n",
    "\n",
    "\n",
    "* Display a preview of the data frame\n",
    "\n"
   ]
  },
  {
   "cell_type": "code",
   "execution_count": 17,
   "metadata": {
    "scrolled": true
   },
   "outputs": [
    {
     "data": {
      "text/html": [
       "<style  type=\"text/css\" >\n",
       "</style><table id=\"T_02d02cbd_f7e2_11ea_8173_5cf3709a039b\" ><thead>    <tr>        <th class=\"blank\" ></th>        <th class=\"blank level0\" ></th>        <th class=\"col_heading level0 col0\" >Purchase Count</th>        <th class=\"col_heading level0 col1\" >Item Price</th>        <th class=\"col_heading level0 col2\" >Total Purchase Value</th>    </tr>    <tr>        <th class=\"index_name level0\" >Item ID</th>        <th class=\"index_name level1\" >Item Name</th>        <th class=\"blank\" ></th>        <th class=\"blank\" ></th>        <th class=\"blank\" ></th>    </tr></thead><tbody>\n",
       "                <tr>\n",
       "                        <th id=\"T_02d02cbd_f7e2_11ea_8173_5cf3709a039blevel0_row0\" class=\"row_heading level0 row0\" >178</th>\n",
       "                        <th id=\"T_02d02cbd_f7e2_11ea_8173_5cf3709a039blevel1_row0\" class=\"row_heading level1 row0\" >Oathbreaker, Last Hope of the Breaking Storm</th>\n",
       "                        <td id=\"T_02d02cbd_f7e2_11ea_8173_5cf3709a039brow0_col0\" class=\"data row0 col0\" >12</td>\n",
       "                        <td id=\"T_02d02cbd_f7e2_11ea_8173_5cf3709a039brow0_col1\" class=\"data row0 col1\" >$4.23</td>\n",
       "                        <td id=\"T_02d02cbd_f7e2_11ea_8173_5cf3709a039brow0_col2\" class=\"data row0 col2\" >$50.76</td>\n",
       "            </tr>\n",
       "            <tr>\n",
       "                        <th id=\"T_02d02cbd_f7e2_11ea_8173_5cf3709a039blevel0_row1\" class=\"row_heading level0 row1\" >82</th>\n",
       "                        <th id=\"T_02d02cbd_f7e2_11ea_8173_5cf3709a039blevel1_row1\" class=\"row_heading level1 row1\" >Nirvana</th>\n",
       "                        <td id=\"T_02d02cbd_f7e2_11ea_8173_5cf3709a039brow1_col0\" class=\"data row1 col0\" >9</td>\n",
       "                        <td id=\"T_02d02cbd_f7e2_11ea_8173_5cf3709a039brow1_col1\" class=\"data row1 col1\" >$4.90</td>\n",
       "                        <td id=\"T_02d02cbd_f7e2_11ea_8173_5cf3709a039brow1_col2\" class=\"data row1 col2\" >$44.10</td>\n",
       "            </tr>\n",
       "            <tr>\n",
       "                        <th id=\"T_02d02cbd_f7e2_11ea_8173_5cf3709a039blevel0_row2\" class=\"row_heading level0 row2\" >145</th>\n",
       "                        <th id=\"T_02d02cbd_f7e2_11ea_8173_5cf3709a039blevel1_row2\" class=\"row_heading level1 row2\" >Fiery Glass Crusader</th>\n",
       "                        <td id=\"T_02d02cbd_f7e2_11ea_8173_5cf3709a039brow2_col0\" class=\"data row2 col0\" >9</td>\n",
       "                        <td id=\"T_02d02cbd_f7e2_11ea_8173_5cf3709a039brow2_col1\" class=\"data row2 col1\" >$4.58</td>\n",
       "                        <td id=\"T_02d02cbd_f7e2_11ea_8173_5cf3709a039brow2_col2\" class=\"data row2 col2\" >$41.22</td>\n",
       "            </tr>\n",
       "            <tr>\n",
       "                        <th id=\"T_02d02cbd_f7e2_11ea_8173_5cf3709a039blevel0_row3\" class=\"row_heading level0 row3\" >92</th>\n",
       "                        <th id=\"T_02d02cbd_f7e2_11ea_8173_5cf3709a039blevel1_row3\" class=\"row_heading level1 row3\" >Final Critic</th>\n",
       "                        <td id=\"T_02d02cbd_f7e2_11ea_8173_5cf3709a039brow3_col0\" class=\"data row3 col0\" >8</td>\n",
       "                        <td id=\"T_02d02cbd_f7e2_11ea_8173_5cf3709a039brow3_col1\" class=\"data row3 col1\" >$4.88</td>\n",
       "                        <td id=\"T_02d02cbd_f7e2_11ea_8173_5cf3709a039brow3_col2\" class=\"data row3 col2\" >$39.04</td>\n",
       "            </tr>\n",
       "            <tr>\n",
       "                        <th id=\"T_02d02cbd_f7e2_11ea_8173_5cf3709a039blevel0_row4\" class=\"row_heading level0 row4\" >103</th>\n",
       "                        <th id=\"T_02d02cbd_f7e2_11ea_8173_5cf3709a039blevel1_row4\" class=\"row_heading level1 row4\" >Singed Scalpel</th>\n",
       "                        <td id=\"T_02d02cbd_f7e2_11ea_8173_5cf3709a039brow4_col0\" class=\"data row4 col0\" >8</td>\n",
       "                        <td id=\"T_02d02cbd_f7e2_11ea_8173_5cf3709a039brow4_col1\" class=\"data row4 col1\" >$4.35</td>\n",
       "                        <td id=\"T_02d02cbd_f7e2_11ea_8173_5cf3709a039brow4_col2\" class=\"data row4 col2\" >$34.80</td>\n",
       "            </tr>\n",
       "            <tr>\n",
       "                        <th id=\"T_02d02cbd_f7e2_11ea_8173_5cf3709a039blevel0_row5\" class=\"row_heading level0 row5\" >59</th>\n",
       "                        <th id=\"T_02d02cbd_f7e2_11ea_8173_5cf3709a039blevel1_row5\" class=\"row_heading level1 row5\" >Lightning, Etcher of the King</th>\n",
       "                        <td id=\"T_02d02cbd_f7e2_11ea_8173_5cf3709a039brow5_col0\" class=\"data row5 col0\" >8</td>\n",
       "                        <td id=\"T_02d02cbd_f7e2_11ea_8173_5cf3709a039brow5_col1\" class=\"data row5 col1\" >$4.23</td>\n",
       "                        <td id=\"T_02d02cbd_f7e2_11ea_8173_5cf3709a039brow5_col2\" class=\"data row5 col2\" >$33.84</td>\n",
       "            </tr>\n",
       "            <tr>\n",
       "                        <th id=\"T_02d02cbd_f7e2_11ea_8173_5cf3709a039blevel0_row6\" class=\"row_heading level0 row6\" >108</th>\n",
       "                        <th id=\"T_02d02cbd_f7e2_11ea_8173_5cf3709a039blevel1_row6\" class=\"row_heading level1 row6\" >Extraction, Quickblade Of Trembling Hands</th>\n",
       "                        <td id=\"T_02d02cbd_f7e2_11ea_8173_5cf3709a039brow6_col0\" class=\"data row6 col0\" >9</td>\n",
       "                        <td id=\"T_02d02cbd_f7e2_11ea_8173_5cf3709a039brow6_col1\" class=\"data row6 col1\" >$3.53</td>\n",
       "                        <td id=\"T_02d02cbd_f7e2_11ea_8173_5cf3709a039brow6_col2\" class=\"data row6 col2\" >$31.77</td>\n",
       "            </tr>\n",
       "            <tr>\n",
       "                        <th id=\"T_02d02cbd_f7e2_11ea_8173_5cf3709a039blevel0_row7\" class=\"row_heading level0 row7\" >78</th>\n",
       "                        <th id=\"T_02d02cbd_f7e2_11ea_8173_5cf3709a039blevel1_row7\" class=\"row_heading level1 row7\" >Glimmer, Ender of the Moon</th>\n",
       "                        <td id=\"T_02d02cbd_f7e2_11ea_8173_5cf3709a039brow7_col0\" class=\"data row7 col0\" >7</td>\n",
       "                        <td id=\"T_02d02cbd_f7e2_11ea_8173_5cf3709a039brow7_col1\" class=\"data row7 col1\" >$4.40</td>\n",
       "                        <td id=\"T_02d02cbd_f7e2_11ea_8173_5cf3709a039brow7_col2\" class=\"data row7 col2\" >$30.80</td>\n",
       "            </tr>\n",
       "            <tr>\n",
       "                        <th id=\"T_02d02cbd_f7e2_11ea_8173_5cf3709a039blevel0_row8\" class=\"row_heading level0 row8\" >72</th>\n",
       "                        <th id=\"T_02d02cbd_f7e2_11ea_8173_5cf3709a039blevel1_row8\" class=\"row_heading level1 row8\" >Winter's Bite</th>\n",
       "                        <td id=\"T_02d02cbd_f7e2_11ea_8173_5cf3709a039brow8_col0\" class=\"data row8 col0\" >8</td>\n",
       "                        <td id=\"T_02d02cbd_f7e2_11ea_8173_5cf3709a039brow8_col1\" class=\"data row8 col1\" >$3.77</td>\n",
       "                        <td id=\"T_02d02cbd_f7e2_11ea_8173_5cf3709a039brow8_col2\" class=\"data row8 col2\" >$30.16</td>\n",
       "            </tr>\n",
       "            <tr>\n",
       "                        <th id=\"T_02d02cbd_f7e2_11ea_8173_5cf3709a039blevel0_row9\" class=\"row_heading level0 row9\" >60</th>\n",
       "                        <th id=\"T_02d02cbd_f7e2_11ea_8173_5cf3709a039blevel1_row9\" class=\"row_heading level1 row9\" >Wolf</th>\n",
       "                        <td id=\"T_02d02cbd_f7e2_11ea_8173_5cf3709a039brow9_col0\" class=\"data row9 col0\" >8</td>\n",
       "                        <td id=\"T_02d02cbd_f7e2_11ea_8173_5cf3709a039brow9_col1\" class=\"data row9 col1\" >$3.54</td>\n",
       "                        <td id=\"T_02d02cbd_f7e2_11ea_8173_5cf3709a039brow9_col2\" class=\"data row9 col2\" >$28.32</td>\n",
       "            </tr>\n",
       "    </tbody></table>"
      ],
      "text/plain": [
       "<pandas.io.formats.style.Styler at 0x20cb36cb5b0>"
      ]
     },
     "execution_count": 17,
     "metadata": {},
     "output_type": "execute_result"
    }
   ],
   "source": [
    "result.sort_values('Total Purchase Value', ascending=False).head(10).style.format(\n",
    "    {col: money_fmt for col in result.columns if col != 'Purchase Count'}\n",
    ")"
   ]
  },
  {
   "cell_type": "markdown",
   "metadata": {},
   "source": [
    "## Extra Fun(?)"
   ]
  },
  {
   "cell_type": "code",
   "execution_count": 18,
   "metadata": {},
   "outputs": [
    {
     "data": {
      "text/plain": [
       "222    Oathbreaker, Last Hope of the Breaking Storm\n",
       "498       Extraction, Quickblade Of Trembling Hands\n",
       "723        Winterthorn, Defender of Shifting Worlds\n",
       "512          Interrogator, Blood Blade of the Queen\n",
       "335           Celeste, Incarnation of the Corrupted\n",
       "159            Betrayal, Whisper of Grieving Widows\n",
       "314             Shadow Strike, Glory of Ending Hope\n",
       "139              Darkheart, Butcher of the Champion\n",
       "283               Thorn, Conqueror of the Corrupted\n",
       "520                Downfall, Scalpel Of The Emperor\n",
       "31                  Wolf, Promise of the Moonwalker\n",
       "575                  Aetherius, Boon of the Blessed\n",
       "376                   Lightning, Etcher of the King\n",
       "508                    Thorn, Satchel of Dark Souls\n",
       "571                     Bone Crushing Silver Skewer\n",
       "472                      Torchlight, Bond of Storms\n",
       "535                       War-Forged Gold Deflector\n",
       "689                        Haunted Bronzed Bludgeon\n",
       "440                         Brutality Ivory Warmace\n",
       "675                          Blood Infused Guardian\n",
       "619                           Vindictive Glass Edge\n",
       "354                            Thunderfury Scimitar\n",
       "600                             Thirsty Iron Reaver\n",
       "667                              Victor Iron Spikes\n",
       "597                               Stormfury Lantern\n",
       "625                                Faith's Scimitar\n",
       "685                                 Retribution Axe\n",
       "189                                  Stormfury Mace\n",
       "515                                   Second Chance\n",
       "466                                    Worldbreaker\n",
       "66                                      Rusty Skull\n",
       "298                                      Suspension\n",
       "395                                       Darkheart\n",
       "204                                        Splinter\n",
       "527                                         Avenger\n",
       "447                                          Agatha\n",
       "267                                           Orbit\n",
       "775                                            Wolf\n",
       "Name: Item Name, dtype: object"
      ]
     },
     "execution_count": 18,
     "metadata": {},
     "output_type": "execute_result"
    }
   ],
   "source": [
    "purchase_data.loc[purchase_data['Item Name'].str.len().sort_values(ascending=False).drop_duplicates().index, \n",
    "                  'Item Name']"
   ]
  },
  {
   "cell_type": "code",
   "execution_count": 19,
   "metadata": {},
   "outputs": [
    {
     "data": {
      "text/plain": [
       "(38,)"
      ]
     },
     "execution_count": 19,
     "metadata": {},
     "output_type": "execute_result"
    }
   ],
   "source": [
    "_.shape"
   ]
  },
  {
   "cell_type": "code",
   "execution_count": 20,
   "metadata": {},
   "outputs": [
    {
     "name": "stdout",
     "output_type": "stream",
     "text": [
      " Oathbreaker, Last Hope of the Breaking Storm\n",
      "    Extraction, Quickblade Of Trembling Hands\n",
      "    Stormbringer, Dark Blade of Ending Misery\n",
      "     Winterthorn, Defender of Shifting Worlds\n",
      "       Interrogator, Blood Blade of the Queen\n",
      "        Celeste, Incarnation of the Corrupted\n",
      "         Expiration, Warscythe Of Lost Worlds\n",
      "         Betrayal, Whisper of Grieving Widows\n",
      "          Shadow Strike, Glory of Ending Hope\n",
      "          Sun Strike, Jaws of Twisted Visions\n",
      "           Warmonger, Gift of Suffering's End\n",
      "           Fate, Vengeance of Eternal Justice\n",
      "           Darkheart, Butcher of the Champion\n",
      "            Heartstriker, Legacy of the Light\n",
      "            Storm-Weaver, Slayer of Inception\n",
      "            Hellreaver, Heirloom of Inception\n",
      "            Tranquility, Razor of Black Magic\n",
      "            Thorn, Conqueror of the Corrupted\n",
      "            Freak's Bite, Favor of Holy Might\n",
      "            The Void, Vengeance of Dark Magic\n",
      "            Oathbreaker, Spellblade of Trials\n",
      "            Blazefury, Protector of Delusions\n",
      "             The Oculus, Token of Lost Worlds\n",
      "             Downfall, Scalpel Of The Emperor\n",
      "             Flux, Destroyer of Due Diligence\n",
      "             Ghost Reaver, Longsword of Magic\n",
      "             Emberling, Defender of Delusions\n",
      "              Rage, Legacy of the Lone Victor\n",
      "              Riddle, Tribute of Ended Dreams\n",
      "              Wolf, Promise of the Moonwalker\n",
      "              Frenzy, Defender of the Harvest\n",
      "              Despair, Favor of Due Diligence\n",
      "               Aetherius, Boon of the Blessed\n",
      "               Peacekeeper, Wit of Dark Magic\n",
      "                Pursuit, Cudgel of Necromancy\n",
      "                Blazeguard, Reach of Eternity\n",
      "                Lightning, Etcher of the King\n",
      "                 Hailstorm Shadowsteel Scythe\n",
      "                 Soul-Forged Steel Shortsword\n",
      "                 Ghastly Adamantite Protector\n",
      "                 Thorn, Satchel of Dark Souls\n",
      "                 Heartseeker, Reaver of Souls\n",
      "                 Lazarus, Terror of the Earth\n",
      "                  Swan Song, Gouger Of Terror\n",
      "                  Alpha, Reach of Ending Hope\n",
      "                  Deadline, Voice Of Subtlety\n",
      "                  Blood-Forged Skeletal Spine\n",
      "                  Malice, Legacy of the Queen\n",
      "                  Bone Crushing Silver Skewer\n",
      "                   Spectral Diamond Doomblade\n",
      "                   Piety, Guardian of Riddles\n",
      "                   Woeful Adamantite Claymore\n",
      "                   Glimmer, Ender of the Moon\n",
      "                   Torchlight, Bond of Storms\n",
      "                   Whistling Mithril Warblade\n",
      "                    War-Forged Gold Deflector\n",
      "                    Splitter, Foe Of Subtlety\n",
      "                    Conqueror Adamantite Mace\n",
      "                     Foul Titanium Battle Axe\n",
      "                     Deluge, Edge of the West\n",
      "                     Heartless Bone Dualblade\n",
      "                     Haunted Bronzed Bludgeon\n",
      "                     Apocalyptic Battlescythe\n",
      "                     Purgatory, Gem of Regret\n",
      "                     Exiled Mithril Longsword\n",
      "                      Mercy, Katana of Dismay\n",
      "                      Chaos, Ender of the End\n",
      "                      Spada, Etcher of Hatred\n",
      "                      Hopeless Ebon Dualblade\n",
      "                      Renewed Skeletal Katana\n",
      "                      Brutality Ivory Warmace\n",
      "                      Warped Diamond Crusader\n",
      "                       Blood Infused Guardian\n",
      "                       Relentless Iron Skewer\n",
      "                        Bonecarvin Battle Axe\n",
      "                        Singed Onyx Warscythe\n",
      "                        Vindictive Glass Edge\n",
      "                         Thunderfury Scimitar\n",
      "                         Warped Iron Scimitar\n",
      "                         Soul Infused Crystal\n",
      "                         Fiery Glass Crusader\n",
      "                          Glinting Glass Edge\n",
      "                          Dragon's Greatsword\n",
      "                          Thirsty Iron Reaver\n",
      "                          Stormfury Longsword\n",
      "                          Alpha, Oath of Zeal\n",
      "                          Crying Steel Sickle\n",
      "                           Gladiator's Glaive\n",
      "                           Blade of the Grave\n",
      "                           Yearning Mageblade\n",
      "                           Bloodlord's Fetish\n",
      "                           Victor Iron Spikes\n",
      "                            Vengeance Cleaver\n",
      "                            Stormfury Lantern\n",
      "                            Frenzied Scimitar\n",
      "                            Twilight's Carver\n",
      "                            Solitude's Reaver\n",
      "                             Unending Tyranny\n",
      "                             Faith's Scimitar\n",
      "                             Yearning Crusher\n",
      "                             Exiled Doomblade\n",
      "                              The Decapitator\n",
      "                              Retribution Axe\n",
      "                              Restored Bauble\n",
      "                              Undead Crusader\n",
      "                              Mercenary Sabre\n",
      "                              Eternal Cleaver\n",
      "                              Righteous Might\n",
      "                              Primitive Blade\n",
      "                               Singed Scalpel\n",
      "                               Possessed Core\n",
      "                               Venom Claymore\n",
      "                               Mourning Blade\n",
      "                               Stormfury Mace\n",
      "                               Malificent Bag\n",
      "                                Second Chance\n",
      "                                Warped Fetish\n",
      "                                Winter's Bite\n",
      "                                Fusion Pummel\n",
      "                                Reaper's Toll\n",
      "                                Abyssal Shard\n",
      "                                 Feral Katana\n",
      "                                 Worldbreaker\n",
      "                                 Phantomlight\n",
      "                                 Misery's End\n",
      "                                 Final Critic\n",
      "                                  Sleepwalker\n",
      "                                  Ritual Mace\n",
      "                                  Unholy Wand\n",
      "                                  Blindscythe\n",
      "                                  Rusty Skull\n",
      "                                  Shadowsteel\n",
      "                                  Stormcaller\n",
      "                                  Piece Maker\n",
      "                                   Curved Axe\n",
      "                                   Putrid Fan\n",
      "                                   Azurewrath\n",
      "                                   Persuasion\n",
      "                                   Netherbane\n",
      "                                   Arcane Gem\n",
      "                                   Endbringer\n",
      "                                   Hope's End\n",
      "                                   Suspension\n",
      "                                   Lifebender\n",
      "                                    Severance\n",
      "                                    Souleater\n",
      "                                    Trickster\n",
      "                                    Dreamkiss\n",
      "                                    Foul Edge\n",
      "                                    Deathraze\n",
      "                                    Darkheart\n",
      "                                    Brimstone\n",
      "                                    Toothpick\n",
      "                                    Dreamsong\n",
      "                                    Hero Cane\n",
      "                                     Serenity\n",
      "                                     Betrayer\n",
      "                                     Crucifer\n",
      "                                     Ragnarok\n",
      "                                     Splinter\n",
      "                                     Massacre\n",
      "                                      Orenmir\n",
      "                                      Celeste\n",
      "                                      Scalpel\n",
      "                                      Amnesia\n",
      "                                      Striker\n",
      "                                      Verdict\n",
      "                                      Avenger\n",
      "                                      Nirvana\n",
      "                                       Hatred\n",
      "                                       Agatha\n",
      "                                       Devine\n",
      "                                       Demise\n",
      "                                        Orbit\n",
      "                                        Dawne\n",
      "                                        Alpha\n",
      "                                         Wolf\n",
      "                                         Fury\n",
      "                                         Dawn\n"
     ]
    }
   ],
   "source": [
    "sorted_item_name_lengths = purchase_data.loc[\n",
    "    purchase_data['Item Name'].drop_duplicates().str.len().sort_values(ascending=False).index, \n",
    "    'Item Name'\n",
    "]\n",
    "\n",
    "for item in sorted_item_name_lengths:\n",
    "    print(item.rjust(len(sorted_item_name_lengths.iloc[0])+1))"
   ]
  },
  {
   "cell_type": "code",
   "execution_count": 21,
   "metadata": {},
   "outputs": [
    {
     "name": "stdout",
     "output_type": "stream",
     "text": [
      "There are 54 commas in item names out of a total of 179.\n",
      "That is to say, 30.2% of all items have a comma in their name.\n"
     ]
    }
   ],
   "source": [
    "commas = (purchase_data['Item Name'].drop_duplicates().str.find(',') >= 0).sum()\n",
    "total_items = purchase_data[\"Item Name\"].nunique()\n",
    "print(f'There are {commas} commas in item names out of a total of {total_items}.')\n",
    "print(f'That is to say, {commas/total_items:.1%} of all items have a comma in their name.')"
   ]
  }
 ],
 "metadata": {
  "anaconda-cloud": {},
  "kernel_info": {
   "name": "python3"
  },
  "kernelspec": {
   "display_name": "Python 3",
   "language": "python",
   "name": "python3"
  },
  "language_info": {
   "codemirror_mode": {
    "name": "ipython",
    "version": 3
   },
   "file_extension": ".py",
   "mimetype": "text/x-python",
   "name": "python",
   "nbconvert_exporter": "python",
   "pygments_lexer": "ipython3",
   "version": "3.8.5"
  },
  "nteract": {
   "version": "0.2.0"
  }
 },
 "nbformat": 4,
 "nbformat_minor": 4
}
